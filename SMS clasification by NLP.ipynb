{
 "cells": [
  {
   "cell_type": "code",
   "execution_count": null,
   "id": "a4138b8a",
   "metadata": {},
   "outputs": [],
   "source": [
    "import pandas as pd\n",
    "import re\n",
    "import nltk\n",
    "import numpy as np\n",
    "import matplotlib.pyplot as plt\n",
    "\n",
    "from nltk.tokenize import word_tokenize\n",
    "from nltk import PorterStemmer, WordNetLemmatizer, FreqDist\n",
    "from nltk.corpus import stopwords\n",
    "\n",
    "from keras.models import Sequential\n",
    "from keras.layers import Flatten, Dense, Embedding\n",
    "\n",
    "from sklearn.naive_bayes import MultinomialNB\n",
    "from sklearn.model_selection import train_test_split\n",
    "from sklearn.neighbors import KNeighborsClassifier\n",
    "from sklearn.feature_extraction.text import TfidfVectorizer, CountVectorizer\n",
    "from sklearn.preprocessing import LabelBinarizer\n",
    "from xgboost import XGBClassifier\n",
    "from sklearn.metrics import accuracy_score"
   ]
  },
  {
   "cell_type": "markdown",
   "id": "57536869",
   "metadata": {},
   "source": [
    "### Preprocessing "
   ]
  },
  {
   "cell_type": "code",
   "execution_count": null,
   "id": "a14dea8d",
   "metadata": {},
   "outputs": [],
   "source": [
    "df = pd.read_csv('D:\\\\Phyton\\\\SMSSpamCollection', sep='\\t',header=None, names=['labels','sms'])\n",
    "\n",
    "print(df.head())"
   ]
  },
  {
   "cell_type": "code",
   "execution_count": null,
   "id": "a57f5032",
   "metadata": {},
   "outputs": [],
   "source": [
    "numeric_to_label = LabelBinarizer()\n",
    "text_to_numeric = TfidfVectorizer(stop_words='english')\n",
    "\n",
    "numeric_label = numeric_to_label.fit_transform(df['labels'])\n",
    "numeric_text = text_to_numeric.fit_transform(df['sms'].values)\n",
    "\n",
    "x_train, x_test, y_train, y_test = train_test_split(numeric_text, numeric_label, test_size=.25, random_state=0)"
   ]
  },
  {
   "cell_type": "markdown",
   "id": "c36cd98c",
   "metadata": {},
   "source": [
    "### XGB Classifier  models "
   ]
  },
  {
   "cell_type": "code",
   "execution_count": null,
   "id": "3aa071ef",
   "metadata": {},
   "outputs": [],
   "source": [
    "model = XGBClassifier().fit(x_train, y_train)\n",
    "y_pred = model.predict(x_test)\n",
    "\n",
    "for pred, sms in zip(y_pred[:5], x_test[:5]):\n",
    "    print(f'Pred: {numeric_to_label.inverse_transform(pred)} - SMS {text_to_numeric.inverse_transform(sms)} \\n')"
   ]
  },
  {
   "cell_type": "code",
   "execution_count": null,
   "id": "df5421dd",
   "metadata": {},
   "outputs": [],
   "source": [
    "accuracy = accuracy_score(y_test, y_pred)\n",
    "\n",
    "print('Accuracy score %.2f'% accuracy)"
   ]
  },
  {
   "cell_type": "code",
   "execution_count": null,
   "id": "bc35a975",
   "metadata": {},
   "outputs": [],
   "source": [
    "change_labels = lambda x: 1 if x == 'spam' else 0\n",
    "\n",
    "df['labels'] = df['labels'].apply(change_labels)\n",
    "\n",
    "remove_non_alphabets = lambda x: re.sub(r'[^a-zA-Z]',' ',x)\n",
    "tokenize = lambda x: word_tokenize(x)\n",
    "\n",
    "ps = PorterStemmer()\n",
    "\n",
    "stem = lambda w: [ps.stem(x) for x in w]\n",
    "\n",
    "df['sms'] = df['sms'].apply(remove_non_alphabets)\n",
    "df['sms'] = df['sms'].apply(tokenize)\n",
    "df['sms'] = df['sms'].apply(stem)\n",
    "df['sms'] = df['sms'].apply(lambda x: ''.join(x))\n",
    "\n",
    "print(df.head())\n",
    "\n",
    "max_words = 10000\n",
    "\n",
    "cv = CountVectorizer(max_features=max_words, stop_words='english')\n",
    "sparse_matrix = cv.fit_transform(df['sms']).toarray()\n",
    "\n",
    "x_train, x_test, y_train, y_test = train_test_split(sparse_matrix, np.array(df['labels']))"
   ]
  },
  {
   "cell_type": "markdown",
   "id": "d3c9a394",
   "metadata": {},
   "source": [
    "### Multinomial models "
   ]
  },
  {
   "cell_type": "code",
   "execution_count": null,
   "id": "504f1b56",
   "metadata": {},
   "outputs": [],
   "source": [
    "model = MultinomialNB()\n",
    "model.fit(x_train, y_train)\n",
    "\n",
    "y_pred = model.predict(x_test)"
   ]
  },
  {
   "cell_type": "code",
   "execution_count": null,
   "id": "32dc33cb",
   "metadata": {},
   "outputs": [],
   "source": [
    "accuracy = accuracy_score(y_test, y_pred)\n",
    "\n",
    "print('Accuracy score %.2f'% accuracy)"
   ]
  },
  {
   "cell_type": "markdown",
   "id": "0fdcb338",
   "metadata": {},
   "source": [
    "### Artifial Neural Network models "
   ]
  },
  {
   "cell_type": "code",
   "execution_count": null,
   "id": "d60a8fef",
   "metadata": {},
   "outputs": [],
   "source": [
    "embedding_dim = 100\n",
    "\n",
    "model = Sequential()\n",
    "model.add(Embedding(max_words,embedding_dim,input_length=x_train.shape[1]))\n",
    "model.add(Flatten())\n",
    "model.add(Dense(1, activation='sigmoid'))\n",
    "\n",
    "model.compile(optimizer='rmsprop',loss='binary_crossentropy', metrics=['accuracy'])\n",
    "\n",
    "training_ann = model.fit(x_train,y_train,epochs=3, batch_size=32,validation_split=.2)"
   ]
  },
  {
   "cell_type": "code",
   "execution_count": null,
   "id": "6c7de7a4",
   "metadata": {},
   "outputs": [],
   "source": [
    "accuracy = accuracy_score(y_test, y_pred)\n",
    "\n",
    "print('Accuracy score %.2f'% accuracy)"
   ]
  }
 ],
 "metadata": {
  "kernelspec": {
   "display_name": "Python 3 (ipykernel)",
   "language": "python",
   "name": "python3"
  },
  "language_info": {
   "codemirror_mode": {
    "name": "ipython",
    "version": 3
   },
   "file_extension": ".py",
   "mimetype": "text/x-python",
   "name": "python",
   "nbconvert_exporter": "python",
   "pygments_lexer": "ipython3",
   "version": "3.9.13"
  }
 },
 "nbformat": 4,
 "nbformat_minor": 5
}
